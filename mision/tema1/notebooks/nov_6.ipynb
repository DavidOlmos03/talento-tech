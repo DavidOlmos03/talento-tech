{
 "cells": [
  {
   "cell_type": "code",
   "execution_count": null,
   "metadata": {},
   "outputs": [],
   "source": [
    "# en el navegador de jupyter, abrir el notebook y ejecutar el siguiente código\n",
    "# %pip install sqlalchemy"
   ]
  },
  {
   "cell_type": "code",
   "execution_count": 22,
   "metadata": {},
   "outputs": [],
   "source": [
    "from sqlalchemy import create_engine,text\n",
    "import pandas as pd\n",
    "import sqlite3 as lite\n",
    "\n",
    "engine = create_engine('sqlite:///../data/example_fts.db')\n",
    "\n",
    "# connection to database\n",
    "# conn = engine.connect('sqlite:///example_fts.db')\n",
    "\n",
    "# consult \n",
    "def run_query(query:str):\n",
    "    with engine.connect() as conn:\n",
    "        # Check if the query is a modified query\n",
    "        if query.strip().lower().startswith(('insert', 'update', 'delete','create')):\n",
    "            # Execute queries as text\n",
    "            conn.execute(text(query))\n",
    "            # Commit the transaction\n",
    "            conn.commit()\n",
    "            return \"Query executed successfully\"\n",
    "        else:\n",
    "            res = conn.execute(text(query))\n",
    "            result = pd.DataFrame(res.fetchall(),columns=res.keys())\n",
    "            return result"
   ]
  },
  {
   "cell_type": "code",
   "execution_count": 23,
   "metadata": {},
   "outputs": [],
   "source": [
    "# Crete query\n",
    "create_table_query = \"\"\"\n",
    "    CREATE TABLE products (\n",
    "        product_id INTEGER PRIMARY KEY,\n",
    "        product_name TEXT,\n",
    "        product_price INTEGER\n",
    "    );\n",
    "\"\"\"\n",
    "\n",
    "create_table = run_query(create_table_query)"
   ]
  },
  {
   "cell_type": "code",
   "execution_count": 25,
   "metadata": {},
   "outputs": [
    {
     "data": {
      "text/plain": [
       "'Query executed successfully'"
      ]
     },
     "execution_count": 25,
     "metadata": {},
     "output_type": "execute_result"
    }
   ],
   "source": [
    "# Insert data \n",
    "insert_data_query = \"\"\"\n",
    "    INSERT INTO products (product_id, product_name, product_price) \n",
    "    VALUES (1, 'Laptop Acer 125', 100.00),\n",
    "        (2, 'Laptop Acer 135', 200.00),\n",
    "        (3, 'Laptop Lenovo 125', 300.00),\n",
    "        (4, 'Macbook Pro 145', 400.00),\n",
    "        (5, 'Impressora HP 155', 500.00),\n",
    "        (6, 'Laptop Dell 6', 600.00),\n",
    "        (7, 'Multifuncional Canon', 700.00),\n",
    "        (8, 'Printer HP 8', 800.00),\n",
    "        (9, 'Multifuncional HP', 900.00),\n",
    "        (10, 'Laptop Acer 10', 1000.00);\n",
    "\"\"\"\n",
    "run_query(insert_data_query)"
   ]
  },
  {
   "cell_type": "code",
   "execution_count": 29,
   "metadata": {},
   "outputs": [
    {
     "data": {
      "text/html": [
       "<div>\n",
       "<style scoped>\n",
       "    .dataframe tbody tr th:only-of-type {\n",
       "        vertical-align: middle;\n",
       "    }\n",
       "\n",
       "    .dataframe tbody tr th {\n",
       "        vertical-align: top;\n",
       "    }\n",
       "\n",
       "    .dataframe thead th {\n",
       "        text-align: right;\n",
       "    }\n",
       "</style>\n",
       "<table border=\"1\" class=\"dataframe\">\n",
       "  <thead>\n",
       "    <tr style=\"text-align: right;\">\n",
       "      <th></th>\n",
       "      <th>product_id</th>\n",
       "      <th>product_name</th>\n",
       "      <th>product_price</th>\n",
       "    </tr>\n",
       "  </thead>\n",
       "  <tbody>\n",
       "    <tr>\n",
       "      <th>0</th>\n",
       "      <td>1</td>\n",
       "      <td>Laptop Acer 125</td>\n",
       "      <td>100</td>\n",
       "    </tr>\n",
       "    <tr>\n",
       "      <th>1</th>\n",
       "      <td>2</td>\n",
       "      <td>Laptop Acer 135</td>\n",
       "      <td>200</td>\n",
       "    </tr>\n",
       "    <tr>\n",
       "      <th>2</th>\n",
       "      <td>3</td>\n",
       "      <td>Laptop Lenovo 125</td>\n",
       "      <td>300</td>\n",
       "    </tr>\n",
       "    <tr>\n",
       "      <th>3</th>\n",
       "      <td>4</td>\n",
       "      <td>Macbook Pro 145</td>\n",
       "      <td>400</td>\n",
       "    </tr>\n",
       "    <tr>\n",
       "      <th>4</th>\n",
       "      <td>5</td>\n",
       "      <td>Impressora HP 155</td>\n",
       "      <td>500</td>\n",
       "    </tr>\n",
       "    <tr>\n",
       "      <th>5</th>\n",
       "      <td>6</td>\n",
       "      <td>Laptop Dell 6</td>\n",
       "      <td>600</td>\n",
       "    </tr>\n",
       "    <tr>\n",
       "      <th>6</th>\n",
       "      <td>7</td>\n",
       "      <td>Multifuncional Canon</td>\n",
       "      <td>700</td>\n",
       "    </tr>\n",
       "    <tr>\n",
       "      <th>7</th>\n",
       "      <td>8</td>\n",
       "      <td>Printer HP 8</td>\n",
       "      <td>800</td>\n",
       "    </tr>\n",
       "    <tr>\n",
       "      <th>8</th>\n",
       "      <td>9</td>\n",
       "      <td>Multifuncional HP</td>\n",
       "      <td>900</td>\n",
       "    </tr>\n",
       "    <tr>\n",
       "      <th>9</th>\n",
       "      <td>10</td>\n",
       "      <td>Laptop Acer 10</td>\n",
       "      <td>1000</td>\n",
       "    </tr>\n",
       "  </tbody>\n",
       "</table>\n",
       "</div>"
      ],
      "text/plain": [
       "   product_id          product_name  product_price\n",
       "0           1       Laptop Acer 125            100\n",
       "1           2       Laptop Acer 135            200\n",
       "2           3     Laptop Lenovo 125            300\n",
       "3           4       Macbook Pro 145            400\n",
       "4           5     Impressora HP 155            500\n",
       "5           6         Laptop Dell 6            600\n",
       "6           7  Multifuncional Canon            700\n",
       "7           8          Printer HP 8            800\n",
       "8           9     Multifuncional HP            900\n",
       "9          10        Laptop Acer 10           1000"
      ]
     },
     "execution_count": 29,
     "metadata": {},
     "output_type": "execute_result"
    }
   ],
   "source": [
    "query = \"SELECT * FROM products\"\n",
    "show_data = run_query(query)\n",
    "show_data\n"
   ]
  },
  {
   "cell_type": "code",
   "execution_count": null,
   "metadata": {},
   "outputs": [],
   "source": []
  }
 ],
 "metadata": {
  "kernelspec": {
   "display_name": ".venv",
   "language": "python",
   "name": "python3"
  },
  "language_info": {
   "codemirror_mode": {
    "name": "ipython",
    "version": 3
   },
   "file_extension": ".py",
   "mimetype": "text/x-python",
   "name": "python",
   "nbconvert_exporter": "python",
   "pygments_lexer": "ipython3",
   "version": "3.12.3"
  }
 },
 "nbformat": 4,
 "nbformat_minor": 2
}
