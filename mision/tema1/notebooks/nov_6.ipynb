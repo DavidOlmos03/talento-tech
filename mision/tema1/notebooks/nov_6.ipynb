{
 "cells": [
  {
   "cell_type": "code",
   "execution_count": null,
   "metadata": {},
   "outputs": [],
   "source": [
    "# en el navegador de jupyter, abrir el notebook y ejecutar el siguiente código\n",
    "# %pip install sqlalchemy"
   ]
  },
  {
   "cell_type": "code",
   "execution_count": 22,
   "metadata": {},
   "outputs": [],
   "source": [
    "from sqlalchemy import create_engine,text\n",
    "import pandas as pd\n",
    "import sqlite3 as lite\n",
    "\n",
    "engine = create_engine('sqlite:///../data/example_fts.db')\n",
    "\n",
    "# connection to database\n",
    "# conn = engine.connect('sqlite:///example_fts.db')\n",
    "\n",
    "# consult \n",
    "def run_query(query:str):\n",
    "    with engine.connect() as conn:\n",
    "        # Check if the query is a modified query\n",
    "        if query.strip().lower().startswith(('insert', 'update', 'delete','create')):\n",
    "            # Execute queries as text\n",
    "            conn.execute(text(query))\n",
    "            # Commit the transaction\n",
    "            conn.commit()\n",
    "            return \"Query executed successfully\"\n",
    "        else:\n",
    "            res = conn.execute(text(query))\n",
    "            result = pd.DataFrame(res.fetchall(),columns=res.keys())\n",
    "            return result"
   ]
  },
  {
   "cell_type": "code",
   "execution_count": 23,
   "metadata": {},
   "outputs": [],
   "source": [
    "# Crete query\n",
    "create_table_query = \"\"\"\n",
    "    CREATE TABLE products (\n",
    "        product_id INTEGER PRIMARY KEY,\n",
    "        product_name TEXT,\n",
    "        product_price INTEGER\n",
    "    );\n",
    "\"\"\"\n",
    "\n",
    "create_table = run_query(create_table_query)"
   ]
  },
  {
   "cell_type": "code",
   "execution_count": 24,
   "metadata": {},
   "outputs": [
    {
     "data": {
      "text/plain": [
       "'Query executed successfully'"
      ]
     },
     "execution_count": 24,
     "metadata": {},
     "output_type": "execute_result"
    }
   ],
   "source": [
    "# Insert data \n",
    "insert_data_query = \"\"\"\n",
    "    INSERT INTO products (product_id, product_name, product_price) \n",
    "    VALUES (1, 'Laptop Acer 125', 100.00),\n",
    "        (2, 'Laptop Acer 135', 200.00),\n",
    "        (3, 'Laptop Lenovo 125', 300.00),\n",
    "        (4, 'Laptop Lenovo 135', 400.00),\n",
    "        (5, 'Laptop Toshiba 145', 500.00),\n",
    "        (6, 'Laptop Dell 6', 600.00),\n",
    "        (7, 'Laptop Dell 7', 700.00),\n",
    "        (8, 'Laptop Lenovo 8', 800.00),\n",
    "        (9, 'Laptop Lenovo 9', 900.00),\n",
    "        (10, 'Laptop Acer 10', 1000.00);\n",
    "\"\"\"\n",
    "run_query(insert_data_query)"
   ]
  },
  {
   "cell_type": "code",
   "execution_count": null,
   "metadata": {},
   "outputs": [],
   "source": []
  }
 ],
 "metadata": {
  "kernelspec": {
   "display_name": ".venv",
   "language": "python",
   "name": "python3"
  },
  "language_info": {
   "codemirror_mode": {
    "name": "ipython",
    "version": 3
   },
   "file_extension": ".py",
   "mimetype": "text/x-python",
   "name": "python",
   "nbconvert_exporter": "python",
   "pygments_lexer": "ipython3",
   "version": "3.12.3"
  }
 },
 "nbformat": 4,
 "nbformat_minor": 2
}
