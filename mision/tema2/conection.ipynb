{
 "cells": [
  {
   "cell_type": "code",
   "execution_count": 13,
   "metadata": {},
   "outputs": [],
   "source": [
    "# Connection to the database\n",
    "import pyodbc as pyodbc\n",
    "import pandas as pd"
   ]
  },
  {
   "cell_type": "code",
   "execution_count": 8,
   "metadata": {},
   "outputs": [],
   "source": [
    "# Configura tu conexión\n",
    "server = 'localhost'  # o '127.0.0.1' si usas local\n",
    "database = 'data_analisys'\n",
    "username = 'sa'  # Deja en blanco si usas autenticación de Windows\n",
    "password = 'Anarchy_1729'  # Deja en blanco si usas autenticación de Windows\n",
    "driver = '{ODBC Driver 18 for SQL Server}'"
   ]
  },
  {
   "cell_type": "code",
   "execution_count": 14,
   "metadata": {},
   "outputs": [
    {
     "name": "stdout",
     "output_type": "stream",
     "text": [
      "Successfully connected to the database\n"
     ]
    }
   ],
   "source": [
    "try:\n",
    "    connection_string = f'DRIVER={driver};SERVER={server};DATABASE={database};UID={username};PWD={password};TrustServerCertificate=yes;Encrypt=yes;'\n",
    "    conn = pyodbc.connect(connection_string)\n",
    "    print('Successfully connected to the database')\n",
    "    # create a cursor object\n",
    "    cursor = conn.cursor()\n",
    "except pyodbc.Error as err:\n",
    "    print(err)"
   ]
  },
  {
   "cell_type": "code",
   "execution_count": 16,
   "metadata": {},
   "outputs": [
    {
     "name": "stdout",
     "output_type": "stream",
     "text": [
      "Table created successfully\n"
     ]
    }
   ],
   "source": [
    "create_table_query = \"\"\"\n",
    "    CREATE TABLE products (\n",
    "        id INT PRIMARY KEY,\n",
    "        name VARCHAR(100) NOT NULL,\n",
    "        price REAL NOT NULL\n",
    "    )\n",
    "\"\"\"\n",
    "\n",
    "try:\n",
    "    cursor.execute(create_table_query)\n",
    "    print(\"Table created successfully\")\n",
    "except pyodbc.Error as err:\n",
    "    print(err)"
   ]
  },
  {
   "cell_type": "code",
   "execution_count": 20,
   "metadata": {},
   "outputs": [],
   "source": [
    "insert_query = \"\"\"\n",
    "    INSERT INTO products (\n",
    "        id,\n",
    "        name,\n",
    "        price\n",
    "    ) VALUES (\n",
    "        1,\n",
    "        'Producto 1',\n",
    "        10.99\n",
    "    )\n",
    "\"\"\"\n",
    "\n",
    "try:\n",
    "    cursor.execute(insert_query)\n",
    "except pyodbc.Error as err:\n",
    "    print(err)"
   ]
  },
  {
   "cell_type": "code",
   "execution_count": 21,
   "metadata": {},
   "outputs": [
    {
     "name": "stdout",
     "output_type": "stream",
     "text": [
      "[(1, 'Producto 1', 10.989999771118164)]\n"
     ]
    }
   ],
   "source": [
    "try:\n",
    "    cursor.execute(\"SELECT * FROM products\")\n",
    "    results = cursor.fetchall()\n",
    "    print(results)\n",
    "except pyodbc.Error as err:\n",
    "    print(err)"
   ]
  },
  {
   "cell_type": "code",
   "execution_count": null,
   "metadata": {},
   "outputs": [],
   "source": []
  }
 ],
 "metadata": {
  "kernelspec": {
   "display_name": ".venv",
   "language": "python",
   "name": "python3"
  },
  "language_info": {
   "codemirror_mode": {
    "name": "ipython",
    "version": 3
   },
   "file_extension": ".py",
   "mimetype": "text/x-python",
   "name": "python",
   "nbconvert_exporter": "python",
   "pygments_lexer": "ipython3",
   "version": "3.12.3"
  }
 },
 "nbformat": 4,
 "nbformat_minor": 2
}
